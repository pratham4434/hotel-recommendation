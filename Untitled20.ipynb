{
 "cells": [
  {
   "cell_type": "code",
   "execution_count": 2,
   "id": "c3849a0c-231e-48b2-9cce-f1ef331a28c6",
   "metadata": {},
   "outputs": [],
   "source": [
    "import numpy as np\n",
    "import pandas as pd"
   ]
  },
  {
   "cell_type": "code",
   "execution_count": 3,
   "id": "1b0d0032-b2ea-48a4-be76-0bce037e3adb",
   "metadata": {},
   "outputs": [],
   "source": [
    "df1=pd.read_csv('Hotel_Room_attributes.csv')\n",
    "df2=pd.read_csv('Hotel_details.csv')\n",
    "df3=pd.read_csv('hotels_RoomPrice.csv')"
   ]
  },
  {
   "cell_type": "code",
   "execution_count": 4,
   "id": "18db2820-45fd-4ba5-9f4f-37c23f255e32",
   "metadata": {},
   "outputs": [
    {
     "data": {
      "text/html": [
       "<div>\n",
       "<style scoped>\n",
       "    .dataframe tbody tr th:only-of-type {\n",
       "        vertical-align: middle;\n",
       "    }\n",
       "\n",
       "    .dataframe tbody tr th {\n",
       "        vertical-align: top;\n",
       "    }\n",
       "\n",
       "    .dataframe thead th {\n",
       "        text-align: right;\n",
       "    }\n",
       "</style>\n",
       "<table border=\"1\" class=\"dataframe\">\n",
       "  <thead>\n",
       "    <tr style=\"text-align: right;\">\n",
       "      <th></th>\n",
       "      <th>id</th>\n",
       "      <th>hotelcode</th>\n",
       "      <th>roomamenities</th>\n",
       "      <th>roomtype</th>\n",
       "      <th>ratedescription</th>\n",
       "    </tr>\n",
       "  </thead>\n",
       "  <tbody>\n",
       "    <tr>\n",
       "      <th>0</th>\n",
       "      <td>50677497</td>\n",
       "      <td>634876</td>\n",
       "      <td>Air conditioning: ;Alarm clock: ;Carpeting: ;C...</td>\n",
       "      <td>Double Room</td>\n",
       "      <td>Room size: 15 m²/161 ft², Shower, 1 king bed</td>\n",
       "    </tr>\n",
       "    <tr>\n",
       "      <th>1</th>\n",
       "      <td>50672149</td>\n",
       "      <td>8328096</td>\n",
       "      <td>Air conditioning: ;Closet: ;Fireplace: ;Free W...</td>\n",
       "      <td>Vacation Home</td>\n",
       "      <td>Shower, Kitchenette, 2 bedrooms, 1 double bed ...</td>\n",
       "    </tr>\n",
       "    <tr>\n",
       "      <th>2</th>\n",
       "      <td>50643430</td>\n",
       "      <td>8323442</td>\n",
       "      <td>Air conditioning: ;Closet: ;Dishwasher: ;Firep...</td>\n",
       "      <td>Vacation Home</td>\n",
       "      <td>Shower, Kitchenette, 2 bedrooms, 1 double bed ...</td>\n",
       "    </tr>\n",
       "    <tr>\n",
       "      <th>3</th>\n",
       "      <td>50650317</td>\n",
       "      <td>7975</td>\n",
       "      <td>Air conditioning: ;Clothes rack: ;Coffee/tea m...</td>\n",
       "      <td>Standard Triple Room</td>\n",
       "      <td>Room size: 20 m²/215 ft², Shower, 3 single beds</td>\n",
       "    </tr>\n",
       "    <tr>\n",
       "      <th>4</th>\n",
       "      <td>50650318</td>\n",
       "      <td>7975</td>\n",
       "      <td>Air conditioning: ;Clothes rack: ;Coffee/tea m...</td>\n",
       "      <td>Standard Triple Room</td>\n",
       "      <td>Room size: 20 m²/215 ft², Shower, 3 single beds</td>\n",
       "    </tr>\n",
       "  </tbody>\n",
       "</table>\n",
       "</div>"
      ],
      "text/plain": [
       "         id  hotelcode                                      roomamenities  \\\n",
       "0  50677497     634876  Air conditioning: ;Alarm clock: ;Carpeting: ;C...   \n",
       "1  50672149    8328096  Air conditioning: ;Closet: ;Fireplace: ;Free W...   \n",
       "2  50643430    8323442  Air conditioning: ;Closet: ;Dishwasher: ;Firep...   \n",
       "3  50650317       7975  Air conditioning: ;Clothes rack: ;Coffee/tea m...   \n",
       "4  50650318       7975  Air conditioning: ;Clothes rack: ;Coffee/tea m...   \n",
       "\n",
       "               roomtype                                    ratedescription  \n",
       "0           Double Room       Room size: 15 m²/161 ft², Shower, 1 king bed  \n",
       "1         Vacation Home  Shower, Kitchenette, 2 bedrooms, 1 double bed ...  \n",
       "2         Vacation Home  Shower, Kitchenette, 2 bedrooms, 1 double bed ...  \n",
       "3  Standard Triple Room    Room size: 20 m²/215 ft², Shower, 3 single beds  \n",
       "4  Standard Triple Room    Room size: 20 m²/215 ft², Shower, 3 single beds  "
      ]
     },
     "execution_count": 4,
     "metadata": {},
     "output_type": "execute_result"
    }
   ],
   "source": [
    "df1.head(5)"
   ]
  },
  {
   "cell_type": "code",
   "execution_count": 5,
   "id": "f33f3939-c565-41a3-95ef-33a6d465efc0",
   "metadata": {},
   "outputs": [
    {
     "data": {
      "text/html": [
       "<div>\n",
       "<style scoped>\n",
       "    .dataframe tbody tr th:only-of-type {\n",
       "        vertical-align: middle;\n",
       "    }\n",
       "\n",
       "    .dataframe tbody tr th {\n",
       "        vertical-align: top;\n",
       "    }\n",
       "\n",
       "    .dataframe thead th {\n",
       "        text-align: right;\n",
       "    }\n",
       "</style>\n",
       "<table border=\"1\" class=\"dataframe\">\n",
       "  <thead>\n",
       "    <tr style=\"text-align: right;\">\n",
       "      <th></th>\n",
       "      <th>id</th>\n",
       "      <th>hotelid</th>\n",
       "      <th>hotelname</th>\n",
       "      <th>address</th>\n",
       "      <th>city</th>\n",
       "      <th>country</th>\n",
       "      <th>zipcode</th>\n",
       "      <th>propertytype</th>\n",
       "      <th>starrating</th>\n",
       "      <th>latitude</th>\n",
       "      <th>longitude</th>\n",
       "      <th>Source</th>\n",
       "      <th>url</th>\n",
       "      <th>curr</th>\n",
       "    </tr>\n",
       "  </thead>\n",
       "  <tbody>\n",
       "    <tr>\n",
       "      <th>0</th>\n",
       "      <td>46406</td>\n",
       "      <td>1771651</td>\n",
       "      <td>Mediteran Bungalow Galeb</td>\n",
       "      <td>Vukovarska 7</td>\n",
       "      <td>Omis</td>\n",
       "      <td>Croatia</td>\n",
       "      <td>21310.0</td>\n",
       "      <td>Holiday parks</td>\n",
       "      <td>4</td>\n",
       "      <td>43.440124</td>\n",
       "      <td>16.682505</td>\n",
       "      <td>2</td>\n",
       "      <td>https://www.booking.com/hotel/hr/bungalow-luxu...</td>\n",
       "      <td>EUR</td>\n",
       "    </tr>\n",
       "    <tr>\n",
       "      <th>1</th>\n",
       "      <td>46407</td>\n",
       "      <td>177167</td>\n",
       "      <td>Hotel Polonia</td>\n",
       "      <td>Plac Teatralny 5</td>\n",
       "      <td>Torun</td>\n",
       "      <td>Poland</td>\n",
       "      <td>NaN</td>\n",
       "      <td>Hotels</td>\n",
       "      <td>3</td>\n",
       "      <td>53.012329</td>\n",
       "      <td>18.603800</td>\n",
       "      <td>5</td>\n",
       "      <td>https://www.agoda.com/en-gb/hotel-polonia/hote...</td>\n",
       "      <td>EUR</td>\n",
       "    </tr>\n",
       "    <tr>\n",
       "      <th>2</th>\n",
       "      <td>46408</td>\n",
       "      <td>1771675</td>\n",
       "      <td>Rifugio Sass Bece</td>\n",
       "      <td>Belvedere del Pordoi,1</td>\n",
       "      <td>Canazei</td>\n",
       "      <td>Italy</td>\n",
       "      <td>38032.0</td>\n",
       "      <td>Hotels</td>\n",
       "      <td>3</td>\n",
       "      <td>46.477920</td>\n",
       "      <td>11.813350</td>\n",
       "      <td>2</td>\n",
       "      <td>http://www.booking.com/hotel/it/rifugio-sass-b...</td>\n",
       "      <td>EUR</td>\n",
       "    </tr>\n",
       "    <tr>\n",
       "      <th>3</th>\n",
       "      <td>46409</td>\n",
       "      <td>177168</td>\n",
       "      <td>Madalena Hotel</td>\n",
       "      <td>Mykonos</td>\n",
       "      <td>Mykonos</td>\n",
       "      <td>Greece</td>\n",
       "      <td>84600.0</td>\n",
       "      <td>Hotels</td>\n",
       "      <td>3</td>\n",
       "      <td>37.452316</td>\n",
       "      <td>25.329849</td>\n",
       "      <td>5</td>\n",
       "      <td>https://www.agoda.com/en-gb/madalena-hotel/hot...</td>\n",
       "      <td>EUR</td>\n",
       "    </tr>\n",
       "    <tr>\n",
       "      <th>4</th>\n",
       "      <td>46410</td>\n",
       "      <td>1771718</td>\n",
       "      <td>Pension Morenfeld</td>\n",
       "      <td>Mair im Korn Strasse 2</td>\n",
       "      <td>Lagundo</td>\n",
       "      <td>Italy</td>\n",
       "      <td>39022.0</td>\n",
       "      <td>Hotels</td>\n",
       "      <td>3</td>\n",
       "      <td>46.682780</td>\n",
       "      <td>11.131736</td>\n",
       "      <td>2</td>\n",
       "      <td>http://www.booking.com/hotel/it/pension-morenf...</td>\n",
       "      <td>EUR</td>\n",
       "    </tr>\n",
       "  </tbody>\n",
       "</table>\n",
       "</div>"
      ],
      "text/plain": [
       "      id  hotelid                 hotelname                 address     city  \\\n",
       "0  46406  1771651  Mediteran Bungalow Galeb            Vukovarska 7     Omis   \n",
       "1  46407   177167             Hotel Polonia        Plac Teatralny 5    Torun   \n",
       "2  46408  1771675         Rifugio Sass Bece  Belvedere del Pordoi,1  Canazei   \n",
       "3  46409   177168            Madalena Hotel                 Mykonos  Mykonos   \n",
       "4  46410  1771718         Pension Morenfeld  Mair im Korn Strasse 2  Lagundo   \n",
       "\n",
       "   country  zipcode   propertytype  starrating   latitude  longitude  Source  \\\n",
       "0  Croatia  21310.0  Holiday parks           4  43.440124  16.682505       2   \n",
       "1   Poland      NaN         Hotels           3  53.012329  18.603800       5   \n",
       "2    Italy  38032.0         Hotels           3  46.477920  11.813350       2   \n",
       "3   Greece  84600.0         Hotels           3  37.452316  25.329849       5   \n",
       "4    Italy  39022.0         Hotels           3  46.682780  11.131736       2   \n",
       "\n",
       "                                                 url curr  \n",
       "0  https://www.booking.com/hotel/hr/bungalow-luxu...  EUR  \n",
       "1  https://www.agoda.com/en-gb/hotel-polonia/hote...  EUR  \n",
       "2  http://www.booking.com/hotel/it/rifugio-sass-b...  EUR  \n",
       "3  https://www.agoda.com/en-gb/madalena-hotel/hot...  EUR  \n",
       "4  http://www.booking.com/hotel/it/pension-morenf...  EUR  "
      ]
     },
     "execution_count": 5,
     "metadata": {},
     "output_type": "execute_result"
    }
   ],
   "source": [
    "df2.head(5)"
   ]
  },
  {
   "cell_type": "code",
   "execution_count": 6,
   "id": "bc4afc67-d4bb-4caf-b74a-407039f60046",
   "metadata": {},
   "outputs": [
    {
     "data": {
      "text/html": [
       "<div>\n",
       "<style scoped>\n",
       "    .dataframe tbody tr th:only-of-type {\n",
       "        vertical-align: middle;\n",
       "    }\n",
       "\n",
       "    .dataframe tbody tr th {\n",
       "        vertical-align: top;\n",
       "    }\n",
       "\n",
       "    .dataframe thead th {\n",
       "        text-align: right;\n",
       "    }\n",
       "</style>\n",
       "<table border=\"1\" class=\"dataframe\">\n",
       "  <thead>\n",
       "    <tr style=\"text-align: right;\">\n",
       "      <th></th>\n",
       "      <th>id</th>\n",
       "      <th>refid</th>\n",
       "      <th>hotelcode</th>\n",
       "      <th>websitecode</th>\n",
       "      <th>dtcollected</th>\n",
       "      <th>ratedate</th>\n",
       "      <th>los</th>\n",
       "      <th>guests</th>\n",
       "      <th>roomtype</th>\n",
       "      <th>onsiterate</th>\n",
       "      <th>...</th>\n",
       "      <th>promoname</th>\n",
       "      <th>status_code</th>\n",
       "      <th>taxstatus</th>\n",
       "      <th>taxtype</th>\n",
       "      <th>taxamount</th>\n",
       "      <th>proxyused</th>\n",
       "      <th>israteperstay</th>\n",
       "      <th>mealinclusiontype</th>\n",
       "      <th>hotelblock</th>\n",
       "      <th>input_dtcollected</th>\n",
       "    </tr>\n",
       "  </thead>\n",
       "  <tbody>\n",
       "    <tr>\n",
       "      <th>0</th>\n",
       "      <td>50677497</td>\n",
       "      <td>8646773</td>\n",
       "      <td>634876</td>\n",
       "      <td>5</td>\n",
       "      <td>2019-10-12 15:46:54</td>\n",
       "      <td>2019-11-02</td>\n",
       "      <td>1</td>\n",
       "      <td>1</td>\n",
       "      <td>Double Room</td>\n",
       "      <td>82.36</td>\n",
       "      <td>...</td>\n",
       "      <td>NaN</td>\n",
       "      <td>200</td>\n",
       "      <td>2</td>\n",
       "      <td>NaN</td>\n",
       "      <td>0.0</td>\n",
       "      <td>media:M3diAproxy@173.44.165.126:80</td>\n",
       "      <td>Y</td>\n",
       "      <td>Free Breakfast</td>\n",
       "      <td>NaN</td>\n",
       "      <td>2019-10-13</td>\n",
       "    </tr>\n",
       "    <tr>\n",
       "      <th>1</th>\n",
       "      <td>50672149</td>\n",
       "      <td>6234691</td>\n",
       "      <td>8328096</td>\n",
       "      <td>5</td>\n",
       "      <td>2019-10-12 15:47:45</td>\n",
       "      <td>2019-11-30</td>\n",
       "      <td>1</td>\n",
       "      <td>1</td>\n",
       "      <td>Vacation Home</td>\n",
       "      <td>636.09</td>\n",
       "      <td>...</td>\n",
       "      <td>NaN</td>\n",
       "      <td>200</td>\n",
       "      <td>2</td>\n",
       "      <td>NaN</td>\n",
       "      <td>0.0</td>\n",
       "      <td>media:M3diAproxy@173.44.164.126:80</td>\n",
       "      <td>Y</td>\n",
       "      <td>NaN</td>\n",
       "      <td>NaN</td>\n",
       "      <td>2019-10-13</td>\n",
       "    </tr>\n",
       "    <tr>\n",
       "      <th>2</th>\n",
       "      <td>50643430</td>\n",
       "      <td>7015677</td>\n",
       "      <td>8323442</td>\n",
       "      <td>5</td>\n",
       "      <td>2019-10-12 15:47:00</td>\n",
       "      <td>2019-12-20</td>\n",
       "      <td>1</td>\n",
       "      <td>1</td>\n",
       "      <td>Vacation Home</td>\n",
       "      <td>591.74</td>\n",
       "      <td>...</td>\n",
       "      <td>NaN</td>\n",
       "      <td>200</td>\n",
       "      <td>2</td>\n",
       "      <td>NaN</td>\n",
       "      <td>0.0</td>\n",
       "      <td>media:M3diAproxy@173.44.166.122:80</td>\n",
       "      <td>Y</td>\n",
       "      <td>NaN</td>\n",
       "      <td>NaN</td>\n",
       "      <td>2019-10-13</td>\n",
       "    </tr>\n",
       "    <tr>\n",
       "      <th>3</th>\n",
       "      <td>50650317</td>\n",
       "      <td>7327094</td>\n",
       "      <td>7975</td>\n",
       "      <td>5</td>\n",
       "      <td>2019-10-12 15:47:02</td>\n",
       "      <td>2019-12-28</td>\n",
       "      <td>1</td>\n",
       "      <td>1</td>\n",
       "      <td>Standard Triple Room</td>\n",
       "      <td>881.48</td>\n",
       "      <td>...</td>\n",
       "      <td>NaN</td>\n",
       "      <td>200</td>\n",
       "      <td>2</td>\n",
       "      <td>Tax 20%</td>\n",
       "      <td>0.0</td>\n",
       "      <td>media:M3diAproxy@209.242.219.141:80</td>\n",
       "      <td>Y</td>\n",
       "      <td>NaN</td>\n",
       "      <td>NaN</td>\n",
       "      <td>2019-10-13</td>\n",
       "    </tr>\n",
       "    <tr>\n",
       "      <th>4</th>\n",
       "      <td>50650318</td>\n",
       "      <td>7327094</td>\n",
       "      <td>7975</td>\n",
       "      <td>5</td>\n",
       "      <td>2019-10-12 15:47:02</td>\n",
       "      <td>2019-12-28</td>\n",
       "      <td>1</td>\n",
       "      <td>1</td>\n",
       "      <td>Standard Triple Room</td>\n",
       "      <td>897.53</td>\n",
       "      <td>...</td>\n",
       "      <td>NaN</td>\n",
       "      <td>200</td>\n",
       "      <td>2</td>\n",
       "      <td>VAT $ 179.51</td>\n",
       "      <td>0.0</td>\n",
       "      <td>media:M3diAproxy@209.242.219.141:80</td>\n",
       "      <td>Y</td>\n",
       "      <td>Free breakfast for {3}</td>\n",
       "      <td>NaN</td>\n",
       "      <td>2019-10-13</td>\n",
       "    </tr>\n",
       "  </tbody>\n",
       "</table>\n",
       "<p>5 rows × 30 columns</p>\n",
       "</div>"
      ],
      "text/plain": [
       "         id    refid  hotelcode  websitecode          dtcollected    ratedate  \\\n",
       "0  50677497  8646773     634876            5  2019-10-12 15:46:54  2019-11-02   \n",
       "1  50672149  6234691    8328096            5  2019-10-12 15:47:45  2019-11-30   \n",
       "2  50643430  7015677    8323442            5  2019-10-12 15:47:00  2019-12-20   \n",
       "3  50650317  7327094       7975            5  2019-10-12 15:47:02  2019-12-28   \n",
       "4  50650318  7327094       7975            5  2019-10-12 15:47:02  2019-12-28   \n",
       "\n",
       "   los  guests              roomtype  onsiterate  ...  promoname status_code  \\\n",
       "0    1       1           Double Room       82.36  ...        NaN         200   \n",
       "1    1       1         Vacation Home      636.09  ...        NaN         200   \n",
       "2    1       1         Vacation Home      591.74  ...        NaN         200   \n",
       "3    1       1  Standard Triple Room      881.48  ...        NaN         200   \n",
       "4    1       1  Standard Triple Room      897.53  ...        NaN         200   \n",
       "\n",
       "  taxstatus       taxtype taxamount                            proxyused  \\\n",
       "0         2           NaN       0.0   media:M3diAproxy@173.44.165.126:80   \n",
       "1         2           NaN       0.0   media:M3diAproxy@173.44.164.126:80   \n",
       "2         2           NaN       0.0   media:M3diAproxy@173.44.166.122:80   \n",
       "3         2       Tax 20%       0.0  media:M3diAproxy@209.242.219.141:80   \n",
       "4         2  VAT $ 179.51       0.0  media:M3diAproxy@209.242.219.141:80   \n",
       "\n",
       "   israteperstay       mealinclusiontype hotelblock  input_dtcollected  \n",
       "0              Y          Free Breakfast        NaN         2019-10-13  \n",
       "1              Y                     NaN        NaN         2019-10-13  \n",
       "2              Y                     NaN        NaN         2019-10-13  \n",
       "3              Y                     NaN        NaN         2019-10-13  \n",
       "4              Y  Free breakfast for {3}        NaN         2019-10-13  \n",
       "\n",
       "[5 rows x 30 columns]"
      ]
     },
     "execution_count": 6,
     "metadata": {},
     "output_type": "execute_result"
    }
   ],
   "source": [
    "df3.head(5)"
   ]
  },
  {
   "cell_type": "code",
   "execution_count": 7,
   "id": "82c2275f-73fd-4b45-bac3-f96503984096",
   "metadata": {},
   "outputs": [],
   "source": [
    "df2.rename(columns={'hotelcode':'hotelid'}, inplace=True)"
   ]
  },
  {
   "cell_type": "code",
   "execution_count": 8,
   "id": "39d329cb-0b39-4329-af65-f027cb95efdd",
   "metadata": {},
   "outputs": [],
   "source": [
    "df1.rename(columns={'hotelcode':'hotelid'}, inplace=True)"
   ]
  },
  {
   "cell_type": "code",
   "execution_count": 9,
   "id": "c581fb85-1341-47b9-9923-e199e7db92a5",
   "metadata": {},
   "outputs": [],
   "source": [
    "df_final=df1.merge(df2, on = 'hotelid')"
   ]
  },
  {
   "cell_type": "code",
   "execution_count": 10,
   "id": "a79cf273-5599-456f-98a8-7cecd4fd782c",
   "metadata": {},
   "outputs": [
    {
     "data": {
      "text/html": [
       "<div>\n",
       "<style scoped>\n",
       "    .dataframe tbody tr th:only-of-type {\n",
       "        vertical-align: middle;\n",
       "    }\n",
       "\n",
       "    .dataframe tbody tr th {\n",
       "        vertical-align: top;\n",
       "    }\n",
       "\n",
       "    .dataframe thead th {\n",
       "        text-align: right;\n",
       "    }\n",
       "</style>\n",
       "<table border=\"1\" class=\"dataframe\">\n",
       "  <thead>\n",
       "    <tr style=\"text-align: right;\">\n",
       "      <th></th>\n",
       "      <th>id_x</th>\n",
       "      <th>hotelid</th>\n",
       "      <th>roomamenities</th>\n",
       "      <th>roomtype</th>\n",
       "      <th>ratedescription</th>\n",
       "      <th>id_y</th>\n",
       "      <th>hotelname</th>\n",
       "      <th>address</th>\n",
       "      <th>city</th>\n",
       "      <th>country</th>\n",
       "      <th>zipcode</th>\n",
       "      <th>propertytype</th>\n",
       "      <th>starrating</th>\n",
       "      <th>latitude</th>\n",
       "      <th>longitude</th>\n",
       "      <th>Source</th>\n",
       "      <th>url</th>\n",
       "      <th>curr</th>\n",
       "    </tr>\n",
       "  </thead>\n",
       "  <tbody>\n",
       "    <tr>\n",
       "      <th>0</th>\n",
       "      <td>50677497</td>\n",
       "      <td>634876</td>\n",
       "      <td>Air conditioning: ;Alarm clock: ;Carpeting: ;C...</td>\n",
       "      <td>Double Room</td>\n",
       "      <td>Room size: 15 m²/161 ft², Shower, 1 king bed</td>\n",
       "      <td>135972</td>\n",
       "      <td>The Old Cider House</td>\n",
       "      <td>25 Castle Street</td>\n",
       "      <td>Nether Stowey</td>\n",
       "      <td>United Kingdom</td>\n",
       "      <td>NaN</td>\n",
       "      <td>Hotels</td>\n",
       "      <td>4</td>\n",
       "      <td>51.150921</td>\n",
       "      <td>-3.15847</td>\n",
       "      <td>5</td>\n",
       "      <td>https://www.agoda.com/en-gb/the-old-cider-hous...</td>\n",
       "      <td>GBP</td>\n",
       "    </tr>\n",
       "    <tr>\n",
       "      <th>1</th>\n",
       "      <td>50677498</td>\n",
       "      <td>634876</td>\n",
       "      <td>Air conditioning: ;Alarm clock: ;Carpeting: ;C...</td>\n",
       "      <td>Double Room</td>\n",
       "      <td>Room size: 15 m²/161 ft², Shower, 1 king bed</td>\n",
       "      <td>135972</td>\n",
       "      <td>The Old Cider House</td>\n",
       "      <td>25 Castle Street</td>\n",
       "      <td>Nether Stowey</td>\n",
       "      <td>United Kingdom</td>\n",
       "      <td>NaN</td>\n",
       "      <td>Hotels</td>\n",
       "      <td>4</td>\n",
       "      <td>51.150921</td>\n",
       "      <td>-3.15847</td>\n",
       "      <td>5</td>\n",
       "      <td>https://www.agoda.com/en-gb/the-old-cider-hous...</td>\n",
       "      <td>GBP</td>\n",
       "    </tr>\n",
       "    <tr>\n",
       "      <th>2</th>\n",
       "      <td>50677499</td>\n",
       "      <td>634876</td>\n",
       "      <td>Air conditioning: ;Alarm clock: ;Carpeting: ;C...</td>\n",
       "      <td>Deluxe Double Room with Shower</td>\n",
       "      <td>Room size: 17 m²/183 ft², Shower, 1 queen bed ...</td>\n",
       "      <td>135972</td>\n",
       "      <td>The Old Cider House</td>\n",
       "      <td>25 Castle Street</td>\n",
       "      <td>Nether Stowey</td>\n",
       "      <td>United Kingdom</td>\n",
       "      <td>NaN</td>\n",
       "      <td>Hotels</td>\n",
       "      <td>4</td>\n",
       "      <td>51.150921</td>\n",
       "      <td>-3.15847</td>\n",
       "      <td>5</td>\n",
       "      <td>https://www.agoda.com/en-gb/the-old-cider-hous...</td>\n",
       "      <td>GBP</td>\n",
       "    </tr>\n",
       "    <tr>\n",
       "      <th>3</th>\n",
       "      <td>50731279</td>\n",
       "      <td>634876</td>\n",
       "      <td>Air conditioning: ;Alarm clock: ;Carpeting: ;C...</td>\n",
       "      <td>Superior Double Room</td>\n",
       "      <td>Room size: 17 m²/183 ft², Shower, 1 double bed</td>\n",
       "      <td>135972</td>\n",
       "      <td>The Old Cider House</td>\n",
       "      <td>25 Castle Street</td>\n",
       "      <td>Nether Stowey</td>\n",
       "      <td>United Kingdom</td>\n",
       "      <td>NaN</td>\n",
       "      <td>Hotels</td>\n",
       "      <td>4</td>\n",
       "      <td>51.150921</td>\n",
       "      <td>-3.15847</td>\n",
       "      <td>5</td>\n",
       "      <td>https://www.agoda.com/en-gb/the-old-cider-hous...</td>\n",
       "      <td>GBP</td>\n",
       "    </tr>\n",
       "    <tr>\n",
       "      <th>4</th>\n",
       "      <td>63480999</td>\n",
       "      <td>634876</td>\n",
       "      <td>Air conditioning: ;Alarm clock: ;Carpeting: ;C...</td>\n",
       "      <td>Standard Double or Twin Room</td>\n",
       "      <td>Room size: 13 m²/140 ft², Shower, 1 queen bed ...</td>\n",
       "      <td>135972</td>\n",
       "      <td>The Old Cider House</td>\n",
       "      <td>25 Castle Street</td>\n",
       "      <td>Nether Stowey</td>\n",
       "      <td>United Kingdom</td>\n",
       "      <td>NaN</td>\n",
       "      <td>Hotels</td>\n",
       "      <td>4</td>\n",
       "      <td>51.150921</td>\n",
       "      <td>-3.15847</td>\n",
       "      <td>5</td>\n",
       "      <td>https://www.agoda.com/en-gb/the-old-cider-hous...</td>\n",
       "      <td>GBP</td>\n",
       "    </tr>\n",
       "  </tbody>\n",
       "</table>\n",
       "</div>"
      ],
      "text/plain": [
       "       id_x  hotelid                                      roomamenities  \\\n",
       "0  50677497   634876  Air conditioning: ;Alarm clock: ;Carpeting: ;C...   \n",
       "1  50677498   634876  Air conditioning: ;Alarm clock: ;Carpeting: ;C...   \n",
       "2  50677499   634876  Air conditioning: ;Alarm clock: ;Carpeting: ;C...   \n",
       "3  50731279   634876  Air conditioning: ;Alarm clock: ;Carpeting: ;C...   \n",
       "4  63480999   634876  Air conditioning: ;Alarm clock: ;Carpeting: ;C...   \n",
       "\n",
       "                         roomtype  \\\n",
       "0                     Double Room   \n",
       "1                     Double Room   \n",
       "2  Deluxe Double Room with Shower   \n",
       "3            Superior Double Room   \n",
       "4    Standard Double or Twin Room   \n",
       "\n",
       "                                     ratedescription    id_y  \\\n",
       "0       Room size: 15 m²/161 ft², Shower, 1 king bed  135972   \n",
       "1       Room size: 15 m²/161 ft², Shower, 1 king bed  135972   \n",
       "2  Room size: 17 m²/183 ft², Shower, 1 queen bed ...  135972   \n",
       "3     Room size: 17 m²/183 ft², Shower, 1 double bed  135972   \n",
       "4  Room size: 13 m²/140 ft², Shower, 1 queen bed ...  135972   \n",
       "\n",
       "             hotelname           address           city         country  \\\n",
       "0  The Old Cider House  25 Castle Street  Nether Stowey  United Kingdom   \n",
       "1  The Old Cider House  25 Castle Street  Nether Stowey  United Kingdom   \n",
       "2  The Old Cider House  25 Castle Street  Nether Stowey  United Kingdom   \n",
       "3  The Old Cider House  25 Castle Street  Nether Stowey  United Kingdom   \n",
       "4  The Old Cider House  25 Castle Street  Nether Stowey  United Kingdom   \n",
       "\n",
       "   zipcode propertytype  starrating   latitude  longitude  Source  \\\n",
       "0      NaN       Hotels           4  51.150921   -3.15847       5   \n",
       "1      NaN       Hotels           4  51.150921   -3.15847       5   \n",
       "2      NaN       Hotels           4  51.150921   -3.15847       5   \n",
       "3      NaN       Hotels           4  51.150921   -3.15847       5   \n",
       "4      NaN       Hotels           4  51.150921   -3.15847       5   \n",
       "\n",
       "                                                 url curr  \n",
       "0  https://www.agoda.com/en-gb/the-old-cider-hous...  GBP  \n",
       "1  https://www.agoda.com/en-gb/the-old-cider-hous...  GBP  \n",
       "2  https://www.agoda.com/en-gb/the-old-cider-hous...  GBP  \n",
       "3  https://www.agoda.com/en-gb/the-old-cider-hous...  GBP  \n",
       "4  https://www.agoda.com/en-gb/the-old-cider-hous...  GBP  "
      ]
     },
     "execution_count": 10,
     "metadata": {},
     "output_type": "execute_result"
    }
   ],
   "source": [
    "df_final.head()"
   ]
  },
  {
   "cell_type": "code",
   "execution_count": 11,
   "id": "750c56ae-62ac-4b05-b9b2-577b21668e58",
   "metadata": {},
   "outputs": [
    {
     "data": {
      "text/plain": [
       "(181415, 18)"
      ]
     },
     "execution_count": 11,
     "metadata": {},
     "output_type": "execute_result"
    }
   ],
   "source": [
    "df_final.shape"
   ]
  },
  {
   "cell_type": "code",
   "execution_count": 12,
   "id": "d5ec18ae-6347-4c87-85fe-228467140a3b",
   "metadata": {},
   "outputs": [
    {
     "data": {
      "text/plain": [
       "id_x                   0\n",
       "hotelid                0\n",
       "roomamenities       5309\n",
       "roomtype               0\n",
       "ratedescription     5309\n",
       "id_y                   0\n",
       "hotelname              0\n",
       "address              577\n",
       "city                   0\n",
       "country                0\n",
       "zipcode            86703\n",
       "propertytype           0\n",
       "starrating             0\n",
       "latitude               0\n",
       "longitude              0\n",
       "Source                 0\n",
       "url                    0\n",
       "curr                   0\n",
       "dtype: int64"
      ]
     },
     "execution_count": 12,
     "metadata": {},
     "output_type": "execute_result"
    }
   ],
   "source": [
    "df_final.isna().sum()"
   ]
  },
  {
   "cell_type": "code",
   "execution_count": 13,
   "id": "cc5879c7-13e2-4f59-9ad7-0af0e14bf593",
   "metadata": {},
   "outputs": [
    {
     "data": {
      "text/plain": [
       "0"
      ]
     },
     "execution_count": 13,
     "metadata": {},
     "output_type": "execute_result"
    }
   ],
   "source": [
    "df_final.duplicated().sum()"
   ]
  },
  {
   "cell_type": "code",
   "execution_count": 14,
   "id": "0c9a7583-1ad7-43b0-9fea-085583629a8b",
   "metadata": {},
   "outputs": [],
   "source": [
    "df_final.drop(['zipcode'], axis=1, inplace= True)"
   ]
  },
  {
   "cell_type": "code",
   "execution_count": 15,
   "id": "e115e9bc-e549-4b9d-b082-5f9723db2697",
   "metadata": {},
   "outputs": [],
   "source": [
    "data1=df_final"
   ]
  },
  {
   "cell_type": "code",
   "execution_count": 16,
   "id": "af65d643-fd1b-475b-a418-a913adbab1d4",
   "metadata": {},
   "outputs": [],
   "source": [
    "data1.drop(['id_y','latitude', 'longitude', 'Source', 'curr'], axis=1, inplace=True)"
   ]
  },
  {
   "cell_type": "code",
   "execution_count": 17,
   "id": "3f02dd11-60cf-41c2-b10e-cd096110dccd",
   "metadata": {},
   "outputs": [],
   "source": [
    "data1.rename(columns={'id_x': 'id'}, inplace=True)"
   ]
  },
  {
   "cell_type": "code",
   "execution_count": 18,
   "id": "63f10ee3-e319-47e3-b1bd-8a1d3eebd3a6",
   "metadata": {},
   "outputs": [
    {
     "data": {
      "text/plain": [
       "0"
      ]
     },
     "execution_count": 18,
     "metadata": {},
     "output_type": "execute_result"
    }
   ],
   "source": [
    "data1.duplicated().sum()"
   ]
  },
  {
   "cell_type": "code",
   "execution_count": 19,
   "id": "e2afb2ca-fbd8-4cbd-b540-d5cada5a4d95",
   "metadata": {},
   "outputs": [
    {
     "data": {
      "text/plain": [
       "(181415, 12)"
      ]
     },
     "execution_count": 19,
     "metadata": {},
     "output_type": "execute_result"
    }
   ],
   "source": [
    "data1.shape"
   ]
  },
  {
   "cell_type": "code",
   "execution_count": 20,
   "id": "69a21933-3ff3-4350-8b7e-f6372d9d30c7",
   "metadata": {},
   "outputs": [
    {
     "data": {
      "text/plain": [
       "0"
      ]
     },
     "execution_count": 20,
     "metadata": {},
     "output_type": "execute_result"
    }
   ],
   "source": [
    "data1.duplicated().sum()"
   ]
  },
  {
   "cell_type": "code",
   "execution_count": 21,
   "id": "ba4eb60a-c25d-4470-8523-4c8cdbfee93f",
   "metadata": {},
   "outputs": [],
   "source": [
    "indices=data1[data1['id'].duplicated()].index"
   ]
  },
  {
   "cell_type": "code",
   "execution_count": 22,
   "id": "fac447b4-4782-4fb5-827c-7ca2b77b5cbe",
   "metadata": {},
   "outputs": [],
   "source": [
    "data1.drop(index=indices, inplace=True)"
   ]
  },
  {
   "cell_type": "code",
   "execution_count": 23,
   "id": "7cf0af7e-430b-445f-835e-2e5d3929ff65",
   "metadata": {},
   "outputs": [
    {
     "data": {
      "text/plain": [
       "(165873, 12)"
      ]
     },
     "execution_count": 23,
     "metadata": {},
     "output_type": "execute_result"
    }
   ],
   "source": [
    "data1.shape"
   ]
  },
  {
   "cell_type": "code",
   "execution_count": 24,
   "id": "de1a8f8e-a68f-4079-b2a0-83e3e398b92c",
   "metadata": {},
   "outputs": [],
   "source": [
    "# Function to remove whitespaces \n",
    "def remove_whitespace(text):\n",
    "    return text.replace(' ','')"
   ]
  },
  {
   "cell_type": "code",
   "execution_count": 25,
   "id": "9d0ef048-1772-40e5-86ae-05a8f7665919",
   "metadata": {},
   "outputs": [],
   "source": [
    "data1.rename(columns={'roomamenities_x':'roomamenities'}, inplace=True)"
   ]
  },
  {
   "cell_type": "code",
   "execution_count": 26,
   "id": "779b8685-fd52-4867-bf55-cae24f2de8a8",
   "metadata": {},
   "outputs": [
    {
     "data": {
      "text/plain": [
       "'Air conditioning: ;Alarm clock: ;Carpeting: ;Closet: ;Coffee/tea maker: ;Desk: ;DVD/CD player: ;Fan: ;Free Wi-Fi in all rooms!: ;Hair dryer: ;Heating: ;In-room safe box: ;Ironing facilities: ;Linens: ;Mini bar: ;Seating area: ;Toiletries: ;Towels: ;TV [flat screen]: ;'"
      ]
     },
     "execution_count": 26,
     "metadata": {},
     "output_type": "execute_result"
    }
   ],
   "source": [
    "data1['roomamenities'][0]"
   ]
  },
  {
   "cell_type": "code",
   "execution_count": 27,
   "id": "ecab75e7-9e43-43ce-a572-25229d98b783",
   "metadata": {},
   "outputs": [],
   "source": [
    "data1['roomamenities']=data1['roomamenities'].astype(str)"
   ]
  },
  {
   "cell_type": "code",
   "execution_count": 28,
   "id": "fdbadff3-e311-4ccf-89d1-f5b983ed3d02",
   "metadata": {},
   "outputs": [],
   "source": [
    "data1['roomamenities_tag']=data1['roomamenities'].apply(lambda x:x.replace(': ;',','))"
   ]
  },
  {
   "cell_type": "code",
   "execution_count": 29,
   "id": "bd306928-10ea-45a7-99a3-e0ca3f0c49b0",
   "metadata": {},
   "outputs": [],
   "source": [
    "data1['roomamenities_tag'] = data1['roomamenities_tag'].apply(remove_whitespace)"
   ]
  },
  {
   "cell_type": "code",
   "execution_count": 30,
   "id": "f4840e1e-9131-4838-9c2b-efe1e99ff86b",
   "metadata": {},
   "outputs": [],
   "source": [
    "data1['roomamenities_tag'] = data1['roomamenities_tag'].apply(lambda x:x.split(','))"
   ]
  },
  {
   "cell_type": "code",
   "execution_count": 31,
   "id": "bf854ad7-1aa9-494e-b742-b8612c03c0d2",
   "metadata": {},
   "outputs": [
    {
     "data": {
      "text/plain": [
       "['Airconditioning',\n",
       " 'Bathrobes',\n",
       " 'Carpeting',\n",
       " 'Closet',\n",
       " 'Coffee/teamaker',\n",
       " 'Desk',\n",
       " 'Fan',\n",
       " 'Freebottledwater',\n",
       " 'FreeWi-Fiinallrooms!',\n",
       " 'Hairdryer',\n",
       " 'Heating',\n",
       " 'In-roomsafebox',\n",
       " 'Ironingfacilities',\n",
       " 'Linens',\n",
       " 'Mirror',\n",
       " 'Refrigerator',\n",
       " 'Satellite/cablechannels',\n",
       " 'Seatingarea',\n",
       " 'Separatediningarea',\n",
       " 'Smokedetector',\n",
       " 'Telephone',\n",
       " 'Toiletries',\n",
       " 'Towels',\n",
       " 'Trouserpress',\n",
       " 'Wake-upservice',\n",
       " '']"
      ]
     },
     "execution_count": 31,
     "metadata": {},
     "output_type": "execute_result"
    }
   ],
   "source": [
    "data1['roomamenities_tag'][67509]"
   ]
  },
  {
   "cell_type": "code",
   "execution_count": 32,
   "id": "14d926d1-9434-4063-8db8-29bdcf5c8965",
   "metadata": {},
   "outputs": [],
   "source": [
    "data1.rename(columns={'roomtype_x':'roomtype'}, inplace=True)"
   ]
  },
  {
   "cell_type": "code",
   "execution_count": 33,
   "id": "4f7a48b9-abcb-4f13-9d5c-83be941c9886",
   "metadata": {},
   "outputs": [],
   "source": [
    "data1['roomtype_tag'] = data1['roomtype'].apply(remove_whitespace)"
   ]
  },
  {
   "cell_type": "code",
   "execution_count": 34,
   "id": "83b3958a-0504-4fed-a4b6-1e33479e0cce",
   "metadata": {},
   "outputs": [],
   "source": [
    "data1['roomtype_tag'] =  data1['roomtype_tag'].apply(lambda x:[x])"
   ]
  },
  {
   "cell_type": "code",
   "execution_count": 35,
   "id": "2cfebb76-e8a1-45cb-96cb-bc50545ef9b3",
   "metadata": {},
   "outputs": [
    {
     "data": {
      "text/plain": [
       "roomtype_tag\n",
       "[DoubleRoom]                       8240\n",
       "[TwinRoom]                         4466\n",
       "[SingleRoom]                       4260\n",
       "[StandardDoubleRoom]               4194\n",
       "[TripleRoom]                       3708\n",
       "[SuperiorDoubleRoom]               3571\n",
       "[FamilyRoom]                       3063\n",
       "[JuniorSuite]                      2599\n",
       "[StandardTwinRoom]                 2402\n",
       "[DoubleorTwinRoom]                 2213\n",
       "[Suite]                            2147\n",
       "[DeluxeDoubleRoom]                 1747\n",
       "[Double]                           1725\n",
       "[StandardRoom]                     1528\n",
       "[SuperiorRoom]                     1508\n",
       "[StandardSingleRoom]               1375\n",
       "[Single]                           1282\n",
       "[QuadrupleRoom]                    1225\n",
       "[ExecutiveDoubleRoom]              1202\n",
       "[Standard]                         1158\n",
       "[SuperiorTwinRoom]                  970\n",
       "[ClassicDoubleRoom]                 904\n",
       "[Triple]                            876\n",
       "[StandardDouble]                    861\n",
       "[RunofHouse]                        835\n",
       "[ComfortDoubleRoom]                 813\n",
       "[DeluxeRoom]                        734\n",
       "[DoubleSingleUseStandard]           726\n",
       "[SuperiorDoubleorTwinRoom]          723\n",
       "[DoubleStandard]                    721\n",
       "[StandardDoubleorTwinRoom]          709\n",
       "[SuperiorDouble]                    703\n",
       "[Twin]                              681\n",
       "[VacationHome]                      604\n",
       "[StandardTripleRoom]                603\n",
       "[FamilyRoom(2Adults+2Children)]     581\n",
       "[1DoubleBedNon-Smoking]             571\n",
       "[DoubleSuperior]                    541\n",
       "[SmallDoubleRoom]                   533\n",
       "[ClassicDouble]                     493\n",
       "Name: count, dtype: int64"
      ]
     },
     "execution_count": 35,
     "metadata": {},
     "output_type": "execute_result"
    }
   ],
   "source": [
    "value_count=data1['roomtype_tag'].value_counts()\n",
    "value_count.head(40)\n",
    "#pd.set_option('display.max_rows', None)"
   ]
  },
  {
   "cell_type": "code",
   "execution_count": 36,
   "id": "0bb9d13e-ab8b-4cca-b432-95b8ec7cc34c",
   "metadata": {},
   "outputs": [
    {
     "data": {
      "text/plain": [
       "['SuperiorFamilyRoom']"
      ]
     },
     "execution_count": 36,
     "metadata": {},
     "output_type": "execute_result"
    }
   ],
   "source": [
    "data1['roomtype_tag'][67509]"
   ]
  },
  {
   "cell_type": "code",
   "execution_count": 37,
   "id": "1fcf8dd8-796a-4c62-8e0b-74d934bad8c9",
   "metadata": {},
   "outputs": [
    {
     "data": {
      "text/plain": [
       "0              Room size: 15 m²/161 ft², Shower, 1 king bed\n",
       "1              Room size: 15 m²/161 ft², Shower, 1 king bed\n",
       "2         Room size: 17 m²/183 ft², Shower, 1 queen bed ...\n",
       "3            Room size: 17 m²/183 ft², Shower, 1 double bed\n",
       "4         Room size: 13 m²/140 ft², Shower, 1 queen bed ...\n",
       "                                ...                        \n",
       "181410              Room size: 16 m²/172 ft², 2 single beds\n",
       "181411    Room size: 20 m²/215 ft², Balcony/terrace, 1 d...\n",
       "181412    Room size: 20 m²/215 ft², Balcony/terrace, 1 d...\n",
       "181413              Room size: 20 m²/215 ft², 2 single beds\n",
       "181414                                                  NaN\n",
       "Name: ratedescription, Length: 165873, dtype: object"
      ]
     },
     "execution_count": 37,
     "metadata": {},
     "output_type": "execute_result"
    }
   ],
   "source": [
    "data1['ratedescription']"
   ]
  },
  {
   "cell_type": "code",
   "execution_count": 38,
   "id": "feef51ad-cf29-4bd2-a9d3-4b5a717a0e3a",
   "metadata": {},
   "outputs": [],
   "source": [
    "import re\n",
    "\n",
    "def transform(text):\n",
    "    return re.sub(r'Room size: \\d+ m²/\\d+ ft², ','',text)"
   ]
  },
  {
   "cell_type": "code",
   "execution_count": 39,
   "id": "4cd833ef-cf4c-4a7d-8da7-b5178e9c6791",
   "metadata": {},
   "outputs": [],
   "source": [
    "data1['ratedescription']=data1['ratedescription'].astype(str)"
   ]
  },
  {
   "cell_type": "code",
   "execution_count": 40,
   "id": "6cf7a92b-c996-482b-b1e2-c9d83e13eaaa",
   "metadata": {},
   "outputs": [],
   "source": [
    "data1['ratedescription_tag'] = data1['ratedescription'].apply(transform)"
   ]
  },
  {
   "cell_type": "code",
   "execution_count": 41,
   "id": "2024e746-771e-4e00-b439-6fc9d417efcb",
   "metadata": {},
   "outputs": [],
   "source": [
    "data1['ratedescription_tag'] = data1['ratedescription_tag'].apply(remove_whitespace)"
   ]
  },
  {
   "cell_type": "code",
   "execution_count": 42,
   "id": "6d898741-2fc1-4134-85a6-99a803bb80e3",
   "metadata": {},
   "outputs": [],
   "source": [
    "data1['ratedescription_tag'] = data1['ratedescription_tag'].apply(lambda x:x.split(','))"
   ]
  },
  {
   "cell_type": "code",
   "execution_count": 43,
   "id": "da32142a-1f26-4f6e-a08c-aa2345edde91",
   "metadata": {},
   "outputs": [
    {
     "data": {
      "text/plain": [
       "8439"
      ]
     },
     "execution_count": 43,
     "metadata": {},
     "output_type": "execute_result"
    }
   ],
   "source": [
    "data1['address'].nunique()"
   ]
  },
  {
   "cell_type": "code",
   "execution_count": 44,
   "id": "185b8841-48bb-4c50-931a-1c087a2d78fe",
   "metadata": {},
   "outputs": [],
   "source": [
    "data1['address']=data1['address'].astype(str)"
   ]
  },
  {
   "cell_type": "code",
   "execution_count": 45,
   "id": "757abd7f-c7d5-4cf0-9d83-bd41993ba84f",
   "metadata": {},
   "outputs": [],
   "source": [
    "data1['address_tag'] = data1['address'].apply(remove_whitespace)"
   ]
  },
  {
   "cell_type": "code",
   "execution_count": 46,
   "id": "f727a942-fcfd-4892-87c7-c03fe6ba35fb",
   "metadata": {},
   "outputs": [],
   "source": [
    "data1['address_tag'] = data1['address_tag'].apply(lambda x:x.split())"
   ]
  },
  {
   "cell_type": "code",
   "execution_count": 47,
   "id": "768c5368-c553-4bf4-a0e0-45dbfac53bee",
   "metadata": {},
   "outputs": [],
   "source": [
    "data1['city_tag'] = data1['city'].apply(remove_whitespace)\n"
   ]
  },
  {
   "cell_type": "code",
   "execution_count": 48,
   "id": "059b6bc3-b9b5-4505-ba25-a05b27097719",
   "metadata": {},
   "outputs": [],
   "source": [
    "data1['city_tag'] = data1['city_tag'].apply(lambda x:x.split())\n"
   ]
  },
  {
   "cell_type": "code",
   "execution_count": 49,
   "id": "e08faec7-1c5f-49bf-9efb-e58545df54e3",
   "metadata": {},
   "outputs": [
    {
     "data": {
      "text/plain": [
       "0         [NetherStowey]\n",
       "1         [NetherStowey]\n",
       "2         [NetherStowey]\n",
       "3         [NetherStowey]\n",
       "4         [NetherStowey]\n",
       "               ...      \n",
       "181410        [Merignac]\n",
       "181411        [Merignac]\n",
       "181412        [Merignac]\n",
       "181413        [Merignac]\n",
       "181414        [Merignac]\n",
       "Name: city_tag, Length: 165873, dtype: object"
      ]
     },
     "execution_count": 49,
     "metadata": {},
     "output_type": "execute_result"
    }
   ],
   "source": [
    "data1['city_tag']"
   ]
  },
  {
   "cell_type": "code",
   "execution_count": 50,
   "id": "9e1db16a-2237-45e7-8974-2a8604778034",
   "metadata": {},
   "outputs": [],
   "source": [
    "data1['country_tag'] = data1['country'].apply(remove_whitespace)"
   ]
  },
  {
   "cell_type": "code",
   "execution_count": 51,
   "id": "4034fe63-f0ce-47fe-9182-22542dc54380",
   "metadata": {},
   "outputs": [],
   "source": [
    "data1['country_tag'] = data1['country_tag'].apply(lambda x:x.split())"
   ]
  },
  {
   "cell_type": "code",
   "execution_count": 52,
   "id": "5fd83c5c-b27f-4e2a-a482-66f8c5c3959b",
   "metadata": {},
   "outputs": [
    {
     "data": {
      "text/plain": [
       "0         [UnitedKingdom]\n",
       "1         [UnitedKingdom]\n",
       "2         [UnitedKingdom]\n",
       "3         [UnitedKingdom]\n",
       "4         [UnitedKingdom]\n",
       "               ...       \n",
       "181410           [France]\n",
       "181411           [France]\n",
       "181412           [France]\n",
       "181413           [France]\n",
       "181414           [France]\n",
       "Name: country_tag, Length: 165873, dtype: object"
      ]
     },
     "execution_count": 52,
     "metadata": {},
     "output_type": "execute_result"
    }
   ],
   "source": [
    "data1['country_tag']"
   ]
  },
  {
   "cell_type": "code",
   "execution_count": 53,
   "id": "c72a2936-2178-4f19-b81d-e4c8b1a86606",
   "metadata": {},
   "outputs": [],
   "source": [
    "data1['propertytype_tag'] = data1['propertytype'].apply(remove_whitespace)"
   ]
  },
  {
   "cell_type": "code",
   "execution_count": 54,
   "id": "30e58cd3-bfe4-452c-81f1-5d0d4bdca141",
   "metadata": {},
   "outputs": [],
   "source": [
    "data1['propertytype_tag'] = data1['propertytype_tag'].apply(lambda x:x.split())"
   ]
  },
  {
   "cell_type": "code",
   "execution_count": 55,
   "id": "023e4c79-d3c9-4ef0-ad88-ff3bce41513c",
   "metadata": {},
   "outputs": [
    {
     "data": {
      "text/html": [
       "<div>\n",
       "<style scoped>\n",
       "    .dataframe tbody tr th:only-of-type {\n",
       "        vertical-align: middle;\n",
       "    }\n",
       "\n",
       "    .dataframe tbody tr th {\n",
       "        vertical-align: top;\n",
       "    }\n",
       "\n",
       "    .dataframe thead th {\n",
       "        text-align: right;\n",
       "    }\n",
       "</style>\n",
       "<table border=\"1\" class=\"dataframe\">\n",
       "  <thead>\n",
       "    <tr style=\"text-align: right;\">\n",
       "      <th></th>\n",
       "      <th>id</th>\n",
       "      <th>hotelid</th>\n",
       "      <th>roomamenities</th>\n",
       "      <th>roomtype</th>\n",
       "      <th>ratedescription</th>\n",
       "      <th>hotelname</th>\n",
       "      <th>address</th>\n",
       "      <th>city</th>\n",
       "      <th>country</th>\n",
       "      <th>propertytype</th>\n",
       "      <th>starrating</th>\n",
       "      <th>url</th>\n",
       "      <th>roomamenities_tag</th>\n",
       "      <th>roomtype_tag</th>\n",
       "      <th>ratedescription_tag</th>\n",
       "      <th>address_tag</th>\n",
       "      <th>city_tag</th>\n",
       "      <th>country_tag</th>\n",
       "      <th>propertytype_tag</th>\n",
       "    </tr>\n",
       "  </thead>\n",
       "  <tbody>\n",
       "    <tr>\n",
       "      <th>0</th>\n",
       "      <td>50677497</td>\n",
       "      <td>634876</td>\n",
       "      <td>Air conditioning: ;Alarm clock: ;Carpeting: ;C...</td>\n",
       "      <td>Double Room</td>\n",
       "      <td>Room size: 15 m²/161 ft², Shower, 1 king bed</td>\n",
       "      <td>The Old Cider House</td>\n",
       "      <td>25 Castle Street</td>\n",
       "      <td>Nether Stowey</td>\n",
       "      <td>United Kingdom</td>\n",
       "      <td>Hotels</td>\n",
       "      <td>4</td>\n",
       "      <td>https://www.agoda.com/en-gb/the-old-cider-hous...</td>\n",
       "      <td>[Airconditioning, Alarmclock, Carpeting, Close...</td>\n",
       "      <td>[DoubleRoom]</td>\n",
       "      <td>[Shower, 1kingbed]</td>\n",
       "      <td>[25CastleStreet]</td>\n",
       "      <td>[NetherStowey]</td>\n",
       "      <td>[UnitedKingdom]</td>\n",
       "      <td>[Hotels]</td>\n",
       "    </tr>\n",
       "    <tr>\n",
       "      <th>1</th>\n",
       "      <td>50677498</td>\n",
       "      <td>634876</td>\n",
       "      <td>Air conditioning: ;Alarm clock: ;Carpeting: ;C...</td>\n",
       "      <td>Double Room</td>\n",
       "      <td>Room size: 15 m²/161 ft², Shower, 1 king bed</td>\n",
       "      <td>The Old Cider House</td>\n",
       "      <td>25 Castle Street</td>\n",
       "      <td>Nether Stowey</td>\n",
       "      <td>United Kingdom</td>\n",
       "      <td>Hotels</td>\n",
       "      <td>4</td>\n",
       "      <td>https://www.agoda.com/en-gb/the-old-cider-hous...</td>\n",
       "      <td>[Airconditioning, Alarmclock, Carpeting, Close...</td>\n",
       "      <td>[DoubleRoom]</td>\n",
       "      <td>[Shower, 1kingbed]</td>\n",
       "      <td>[25CastleStreet]</td>\n",
       "      <td>[NetherStowey]</td>\n",
       "      <td>[UnitedKingdom]</td>\n",
       "      <td>[Hotels]</td>\n",
       "    </tr>\n",
       "    <tr>\n",
       "      <th>2</th>\n",
       "      <td>50677499</td>\n",
       "      <td>634876</td>\n",
       "      <td>Air conditioning: ;Alarm clock: ;Carpeting: ;C...</td>\n",
       "      <td>Deluxe Double Room with Shower</td>\n",
       "      <td>Room size: 17 m²/183 ft², Shower, 1 queen bed ...</td>\n",
       "      <td>The Old Cider House</td>\n",
       "      <td>25 Castle Street</td>\n",
       "      <td>Nether Stowey</td>\n",
       "      <td>United Kingdom</td>\n",
       "      <td>Hotels</td>\n",
       "      <td>4</td>\n",
       "      <td>https://www.agoda.com/en-gb/the-old-cider-hous...</td>\n",
       "      <td>[Airconditioning, Alarmclock, Carpeting, Close...</td>\n",
       "      <td>[DeluxeDoubleRoomwithShower]</td>\n",
       "      <td>[Shower, 1queenbedor2singlebeds]</td>\n",
       "      <td>[25CastleStreet]</td>\n",
       "      <td>[NetherStowey]</td>\n",
       "      <td>[UnitedKingdom]</td>\n",
       "      <td>[Hotels]</td>\n",
       "    </tr>\n",
       "    <tr>\n",
       "      <th>3</th>\n",
       "      <td>50731279</td>\n",
       "      <td>634876</td>\n",
       "      <td>Air conditioning: ;Alarm clock: ;Carpeting: ;C...</td>\n",
       "      <td>Superior Double Room</td>\n",
       "      <td>Room size: 17 m²/183 ft², Shower, 1 double bed</td>\n",
       "      <td>The Old Cider House</td>\n",
       "      <td>25 Castle Street</td>\n",
       "      <td>Nether Stowey</td>\n",
       "      <td>United Kingdom</td>\n",
       "      <td>Hotels</td>\n",
       "      <td>4</td>\n",
       "      <td>https://www.agoda.com/en-gb/the-old-cider-hous...</td>\n",
       "      <td>[Airconditioning, Alarmclock, Carpeting, Close...</td>\n",
       "      <td>[SuperiorDoubleRoom]</td>\n",
       "      <td>[Shower, 1doublebed]</td>\n",
       "      <td>[25CastleStreet]</td>\n",
       "      <td>[NetherStowey]</td>\n",
       "      <td>[UnitedKingdom]</td>\n",
       "      <td>[Hotels]</td>\n",
       "    </tr>\n",
       "    <tr>\n",
       "      <th>4</th>\n",
       "      <td>63480999</td>\n",
       "      <td>634876</td>\n",
       "      <td>Air conditioning: ;Alarm clock: ;Carpeting: ;C...</td>\n",
       "      <td>Standard Double or Twin Room</td>\n",
       "      <td>Room size: 13 m²/140 ft², Shower, 1 queen bed ...</td>\n",
       "      <td>The Old Cider House</td>\n",
       "      <td>25 Castle Street</td>\n",
       "      <td>Nether Stowey</td>\n",
       "      <td>United Kingdom</td>\n",
       "      <td>Hotels</td>\n",
       "      <td>4</td>\n",
       "      <td>https://www.agoda.com/en-gb/the-old-cider-hous...</td>\n",
       "      <td>[Airconditioning, Alarmclock, Carpeting, Close...</td>\n",
       "      <td>[StandardDoubleorTwinRoom]</td>\n",
       "      <td>[Shower, 1queenbedor2singlebeds]</td>\n",
       "      <td>[25CastleStreet]</td>\n",
       "      <td>[NetherStowey]</td>\n",
       "      <td>[UnitedKingdom]</td>\n",
       "      <td>[Hotels]</td>\n",
       "    </tr>\n",
       "  </tbody>\n",
       "</table>\n",
       "</div>"
      ],
      "text/plain": [
       "         id  hotelid                                      roomamenities  \\\n",
       "0  50677497   634876  Air conditioning: ;Alarm clock: ;Carpeting: ;C...   \n",
       "1  50677498   634876  Air conditioning: ;Alarm clock: ;Carpeting: ;C...   \n",
       "2  50677499   634876  Air conditioning: ;Alarm clock: ;Carpeting: ;C...   \n",
       "3  50731279   634876  Air conditioning: ;Alarm clock: ;Carpeting: ;C...   \n",
       "4  63480999   634876  Air conditioning: ;Alarm clock: ;Carpeting: ;C...   \n",
       "\n",
       "                         roomtype  \\\n",
       "0                     Double Room   \n",
       "1                     Double Room   \n",
       "2  Deluxe Double Room with Shower   \n",
       "3            Superior Double Room   \n",
       "4    Standard Double or Twin Room   \n",
       "\n",
       "                                     ratedescription            hotelname  \\\n",
       "0       Room size: 15 m²/161 ft², Shower, 1 king bed  The Old Cider House   \n",
       "1       Room size: 15 m²/161 ft², Shower, 1 king bed  The Old Cider House   \n",
       "2  Room size: 17 m²/183 ft², Shower, 1 queen bed ...  The Old Cider House   \n",
       "3     Room size: 17 m²/183 ft², Shower, 1 double bed  The Old Cider House   \n",
       "4  Room size: 13 m²/140 ft², Shower, 1 queen bed ...  The Old Cider House   \n",
       "\n",
       "            address           city         country propertytype  starrating  \\\n",
       "0  25 Castle Street  Nether Stowey  United Kingdom       Hotels           4   \n",
       "1  25 Castle Street  Nether Stowey  United Kingdom       Hotels           4   \n",
       "2  25 Castle Street  Nether Stowey  United Kingdom       Hotels           4   \n",
       "3  25 Castle Street  Nether Stowey  United Kingdom       Hotels           4   \n",
       "4  25 Castle Street  Nether Stowey  United Kingdom       Hotels           4   \n",
       "\n",
       "                                                 url  \\\n",
       "0  https://www.agoda.com/en-gb/the-old-cider-hous...   \n",
       "1  https://www.agoda.com/en-gb/the-old-cider-hous...   \n",
       "2  https://www.agoda.com/en-gb/the-old-cider-hous...   \n",
       "3  https://www.agoda.com/en-gb/the-old-cider-hous...   \n",
       "4  https://www.agoda.com/en-gb/the-old-cider-hous...   \n",
       "\n",
       "                                   roomamenities_tag  \\\n",
       "0  [Airconditioning, Alarmclock, Carpeting, Close...   \n",
       "1  [Airconditioning, Alarmclock, Carpeting, Close...   \n",
       "2  [Airconditioning, Alarmclock, Carpeting, Close...   \n",
       "3  [Airconditioning, Alarmclock, Carpeting, Close...   \n",
       "4  [Airconditioning, Alarmclock, Carpeting, Close...   \n",
       "\n",
       "                   roomtype_tag               ratedescription_tag  \\\n",
       "0                  [DoubleRoom]                [Shower, 1kingbed]   \n",
       "1                  [DoubleRoom]                [Shower, 1kingbed]   \n",
       "2  [DeluxeDoubleRoomwithShower]  [Shower, 1queenbedor2singlebeds]   \n",
       "3          [SuperiorDoubleRoom]              [Shower, 1doublebed]   \n",
       "4    [StandardDoubleorTwinRoom]  [Shower, 1queenbedor2singlebeds]   \n",
       "\n",
       "        address_tag        city_tag      country_tag propertytype_tag  \n",
       "0  [25CastleStreet]  [NetherStowey]  [UnitedKingdom]         [Hotels]  \n",
       "1  [25CastleStreet]  [NetherStowey]  [UnitedKingdom]         [Hotels]  \n",
       "2  [25CastleStreet]  [NetherStowey]  [UnitedKingdom]         [Hotels]  \n",
       "3  [25CastleStreet]  [NetherStowey]  [UnitedKingdom]         [Hotels]  \n",
       "4  [25CastleStreet]  [NetherStowey]  [UnitedKingdom]         [Hotels]  "
      ]
     },
     "execution_count": 55,
     "metadata": {},
     "output_type": "execute_result"
    }
   ],
   "source": [
    "data1.head()"
   ]
  },
  {
   "cell_type": "code",
   "execution_count": 56,
   "id": "31a18f53-3964-4448-8323-bec9e5dd96c9",
   "metadata": {},
   "outputs": [],
   "source": [
    "data1['tags']=data1['roomamenities_tag']+data1['roomtype_tag']+data1['ratedescription_tag']+data1['address_tag']+data1['city_tag']+data1['country_tag']+data1['propertytype_tag']"
   ]
  },
  {
   "cell_type": "code",
   "execution_count": 57,
   "id": "e6d5a178-9f1e-44e6-87d0-9b49c172de92",
   "metadata": {},
   "outputs": [],
   "source": [
    "data1['tags'] = data1['tags'].apply(lambda x:\" \".join(x))"
   ]
  },
  {
   "cell_type": "code",
   "execution_count": 58,
   "id": "12fc66f3-bbba-4d3b-8b89-dad05bd0dee9",
   "metadata": {},
   "outputs": [
    {
     "data": {
      "text/html": [
       "<div>\n",
       "<style scoped>\n",
       "    .dataframe tbody tr th:only-of-type {\n",
       "        vertical-align: middle;\n",
       "    }\n",
       "\n",
       "    .dataframe tbody tr th {\n",
       "        vertical-align: top;\n",
       "    }\n",
       "\n",
       "    .dataframe thead th {\n",
       "        text-align: right;\n",
       "    }\n",
       "</style>\n",
       "<table border=\"1\" class=\"dataframe\">\n",
       "  <thead>\n",
       "    <tr style=\"text-align: right;\">\n",
       "      <th></th>\n",
       "      <th>id</th>\n",
       "      <th>hotelid</th>\n",
       "      <th>roomamenities</th>\n",
       "      <th>roomtype</th>\n",
       "      <th>ratedescription</th>\n",
       "      <th>hotelname</th>\n",
       "      <th>address</th>\n",
       "      <th>city</th>\n",
       "      <th>country</th>\n",
       "      <th>propertytype</th>\n",
       "      <th>starrating</th>\n",
       "      <th>url</th>\n",
       "      <th>roomamenities_tag</th>\n",
       "      <th>roomtype_tag</th>\n",
       "      <th>ratedescription_tag</th>\n",
       "      <th>address_tag</th>\n",
       "      <th>city_tag</th>\n",
       "      <th>country_tag</th>\n",
       "      <th>propertytype_tag</th>\n",
       "      <th>tags</th>\n",
       "    </tr>\n",
       "  </thead>\n",
       "  <tbody>\n",
       "    <tr>\n",
       "      <th>0</th>\n",
       "      <td>50677497</td>\n",
       "      <td>634876</td>\n",
       "      <td>Air conditioning: ;Alarm clock: ;Carpeting: ;C...</td>\n",
       "      <td>Double Room</td>\n",
       "      <td>Room size: 15 m²/161 ft², Shower, 1 king bed</td>\n",
       "      <td>The Old Cider House</td>\n",
       "      <td>25 Castle Street</td>\n",
       "      <td>Nether Stowey</td>\n",
       "      <td>United Kingdom</td>\n",
       "      <td>Hotels</td>\n",
       "      <td>4</td>\n",
       "      <td>https://www.agoda.com/en-gb/the-old-cider-hous...</td>\n",
       "      <td>[Airconditioning, Alarmclock, Carpeting, Close...</td>\n",
       "      <td>[DoubleRoom]</td>\n",
       "      <td>[Shower, 1kingbed]</td>\n",
       "      <td>[25CastleStreet]</td>\n",
       "      <td>[NetherStowey]</td>\n",
       "      <td>[UnitedKingdom]</td>\n",
       "      <td>[Hotels]</td>\n",
       "      <td>Airconditioning Alarmclock Carpeting Closet Co...</td>\n",
       "    </tr>\n",
       "  </tbody>\n",
       "</table>\n",
       "</div>"
      ],
      "text/plain": [
       "         id  hotelid                                      roomamenities  \\\n",
       "0  50677497   634876  Air conditioning: ;Alarm clock: ;Carpeting: ;C...   \n",
       "\n",
       "      roomtype                               ratedescription  \\\n",
       "0  Double Room  Room size: 15 m²/161 ft², Shower, 1 king bed   \n",
       "\n",
       "             hotelname           address           city         country  \\\n",
       "0  The Old Cider House  25 Castle Street  Nether Stowey  United Kingdom   \n",
       "\n",
       "  propertytype  starrating                                                url  \\\n",
       "0       Hotels           4  https://www.agoda.com/en-gb/the-old-cider-hous...   \n",
       "\n",
       "                                   roomamenities_tag  roomtype_tag  \\\n",
       "0  [Airconditioning, Alarmclock, Carpeting, Close...  [DoubleRoom]   \n",
       "\n",
       "  ratedescription_tag       address_tag        city_tag      country_tag  \\\n",
       "0  [Shower, 1kingbed]  [25CastleStreet]  [NetherStowey]  [UnitedKingdom]   \n",
       "\n",
       "  propertytype_tag                                               tags  \n",
       "0         [Hotels]  Airconditioning Alarmclock Carpeting Closet Co...  "
      ]
     },
     "execution_count": 58,
     "metadata": {},
     "output_type": "execute_result"
    }
   ],
   "source": [
    "data1.head(1)"
   ]
  },
  {
   "cell_type": "code",
   "execution_count": 59,
   "id": "dce3e0c8-ac1b-4438-8973-d37c294a7bc8",
   "metadata": {},
   "outputs": [],
   "source": [
    "hotel1= data1[['hotelid','hotelname','tags','starrating','roomtype','country','city','propertytype','url']]"
   ]
  },
  {
   "cell_type": "code",
   "execution_count": 60,
   "id": "90f032c4-ab05-4a59-b7b7-f97b34add028",
   "metadata": {},
   "outputs": [
    {
     "data": {
      "text/plain": [
       "(165873, 9)"
      ]
     },
     "execution_count": 60,
     "metadata": {},
     "output_type": "execute_result"
    }
   ],
   "source": [
    "hotel1.shape"
   ]
  },
  {
   "cell_type": "code",
   "execution_count": 61,
   "id": "f806dd97-e5ed-4e98-aa2d-321197060da0",
   "metadata": {},
   "outputs": [
    {
     "data": {
      "text/html": [
       "<div>\n",
       "<style scoped>\n",
       "    .dataframe tbody tr th:only-of-type {\n",
       "        vertical-align: middle;\n",
       "    }\n",
       "\n",
       "    .dataframe tbody tr th {\n",
       "        vertical-align: top;\n",
       "    }\n",
       "\n",
       "    .dataframe thead th {\n",
       "        text-align: right;\n",
       "    }\n",
       "</style>\n",
       "<table border=\"1\" class=\"dataframe\">\n",
       "  <thead>\n",
       "    <tr style=\"text-align: right;\">\n",
       "      <th></th>\n",
       "      <th>hotelid</th>\n",
       "      <th>hotelname</th>\n",
       "      <th>tags</th>\n",
       "      <th>starrating</th>\n",
       "      <th>roomtype</th>\n",
       "      <th>country</th>\n",
       "      <th>city</th>\n",
       "      <th>propertytype</th>\n",
       "      <th>url</th>\n",
       "    </tr>\n",
       "  </thead>\n",
       "  <tbody>\n",
       "    <tr>\n",
       "      <th>0</th>\n",
       "      <td>634876</td>\n",
       "      <td>The Old Cider House</td>\n",
       "      <td>Airconditioning Alarmclock Carpeting Closet Co...</td>\n",
       "      <td>4</td>\n",
       "      <td>Double Room</td>\n",
       "      <td>United Kingdom</td>\n",
       "      <td>Nether Stowey</td>\n",
       "      <td>Hotels</td>\n",
       "      <td>https://www.agoda.com/en-gb/the-old-cider-hous...</td>\n",
       "    </tr>\n",
       "    <tr>\n",
       "      <th>1</th>\n",
       "      <td>634876</td>\n",
       "      <td>The Old Cider House</td>\n",
       "      <td>Airconditioning Alarmclock Carpeting Closet Co...</td>\n",
       "      <td>4</td>\n",
       "      <td>Double Room</td>\n",
       "      <td>United Kingdom</td>\n",
       "      <td>Nether Stowey</td>\n",
       "      <td>Hotels</td>\n",
       "      <td>https://www.agoda.com/en-gb/the-old-cider-hous...</td>\n",
       "    </tr>\n",
       "    <tr>\n",
       "      <th>2</th>\n",
       "      <td>634876</td>\n",
       "      <td>The Old Cider House</td>\n",
       "      <td>Airconditioning Alarmclock Carpeting Closet Co...</td>\n",
       "      <td>4</td>\n",
       "      <td>Deluxe Double Room with Shower</td>\n",
       "      <td>United Kingdom</td>\n",
       "      <td>Nether Stowey</td>\n",
       "      <td>Hotels</td>\n",
       "      <td>https://www.agoda.com/en-gb/the-old-cider-hous...</td>\n",
       "    </tr>\n",
       "    <tr>\n",
       "      <th>3</th>\n",
       "      <td>634876</td>\n",
       "      <td>The Old Cider House</td>\n",
       "      <td>Airconditioning Alarmclock Carpeting Closet Co...</td>\n",
       "      <td>4</td>\n",
       "      <td>Superior Double Room</td>\n",
       "      <td>United Kingdom</td>\n",
       "      <td>Nether Stowey</td>\n",
       "      <td>Hotels</td>\n",
       "      <td>https://www.agoda.com/en-gb/the-old-cider-hous...</td>\n",
       "    </tr>\n",
       "    <tr>\n",
       "      <th>4</th>\n",
       "      <td>634876</td>\n",
       "      <td>The Old Cider House</td>\n",
       "      <td>Airconditioning Alarmclock Carpeting Closet Co...</td>\n",
       "      <td>4</td>\n",
       "      <td>Standard Double or Twin Room</td>\n",
       "      <td>United Kingdom</td>\n",
       "      <td>Nether Stowey</td>\n",
       "      <td>Hotels</td>\n",
       "      <td>https://www.agoda.com/en-gb/the-old-cider-hous...</td>\n",
       "    </tr>\n",
       "  </tbody>\n",
       "</table>\n",
       "</div>"
      ],
      "text/plain": [
       "   hotelid            hotelname  \\\n",
       "0   634876  The Old Cider House   \n",
       "1   634876  The Old Cider House   \n",
       "2   634876  The Old Cider House   \n",
       "3   634876  The Old Cider House   \n",
       "4   634876  The Old Cider House   \n",
       "\n",
       "                                                tags  starrating  \\\n",
       "0  Airconditioning Alarmclock Carpeting Closet Co...           4   \n",
       "1  Airconditioning Alarmclock Carpeting Closet Co...           4   \n",
       "2  Airconditioning Alarmclock Carpeting Closet Co...           4   \n",
       "3  Airconditioning Alarmclock Carpeting Closet Co...           4   \n",
       "4  Airconditioning Alarmclock Carpeting Closet Co...           4   \n",
       "\n",
       "                         roomtype         country           city propertytype  \\\n",
       "0                     Double Room  United Kingdom  Nether Stowey       Hotels   \n",
       "1                     Double Room  United Kingdom  Nether Stowey       Hotels   \n",
       "2  Deluxe Double Room with Shower  United Kingdom  Nether Stowey       Hotels   \n",
       "3            Superior Double Room  United Kingdom  Nether Stowey       Hotels   \n",
       "4    Standard Double or Twin Room  United Kingdom  Nether Stowey       Hotels   \n",
       "\n",
       "                                                 url  \n",
       "0  https://www.agoda.com/en-gb/the-old-cider-hous...  \n",
       "1  https://www.agoda.com/en-gb/the-old-cider-hous...  \n",
       "2  https://www.agoda.com/en-gb/the-old-cider-hous...  \n",
       "3  https://www.agoda.com/en-gb/the-old-cider-hous...  \n",
       "4  https://www.agoda.com/en-gb/the-old-cider-hous...  "
      ]
     },
     "execution_count": 61,
     "metadata": {},
     "output_type": "execute_result"
    }
   ],
   "source": [
    "hotel1.head()"
   ]
  },
  {
   "cell_type": "code",
   "execution_count": 62,
   "id": "96813d79-eb5c-436e-9465-55e0c21b5b58",
   "metadata": {},
   "outputs": [
    {
     "data": {
      "text/plain": [
       "118180"
      ]
     },
     "execution_count": 62,
     "metadata": {},
     "output_type": "execute_result"
    }
   ],
   "source": [
    "hotel1.duplicated().sum()"
   ]
  },
  {
   "cell_type": "code",
   "execution_count": 63,
   "id": "045b1b4a-d6d9-48d4-b1e4-f85c40225968",
   "metadata": {},
   "outputs": [
    {
     "name": "stderr",
     "output_type": "stream",
     "text": [
      "C:\\Users\\Jai Satyam\\AppData\\Local\\Temp\\ipykernel_30252\\2916415310.py:1: SettingWithCopyWarning: \n",
      "A value is trying to be set on a copy of a slice from a DataFrame\n",
      "\n",
      "See the caveats in the documentation: https://pandas.pydata.org/pandas-docs/stable/user_guide/indexing.html#returning-a-view-versus-a-copy\n",
      "  hotel1.drop_duplicates(inplace=True)\n"
     ]
    }
   ],
   "source": [
    "hotel1.drop_duplicates(inplace=True)"
   ]
  },
  {
   "cell_type": "code",
   "execution_count": 64,
   "id": "33c4c0ac-ee3f-49c1-9242-9c9a13ed536e",
   "metadata": {},
   "outputs": [
    {
     "data": {
      "text/plain": [
       "hotelid         0\n",
       "hotelname       0\n",
       "tags            0\n",
       "starrating      0\n",
       "roomtype        0\n",
       "country         0\n",
       "city            0\n",
       "propertytype    0\n",
       "url             0\n",
       "dtype: int64"
      ]
     },
     "execution_count": 64,
     "metadata": {},
     "output_type": "execute_result"
    }
   ],
   "source": [
    "hotel1.isna().sum()"
   ]
  },
  {
   "cell_type": "code",
   "execution_count": 65,
   "id": "c3deb3f8-54c8-498a-9136-2d622e429136",
   "metadata": {},
   "outputs": [],
   "source": [
    "hotel1.to_csv(\"Hoterec1.csv\")"
   ]
  },
  {
   "cell_type": "code",
   "execution_count": 66,
   "id": "f74a9531-2c2b-43bf-bdc5-42f4b1c7dd39",
   "metadata": {},
   "outputs": [
    {
     "data": {
      "text/plain": [
       "(47693, 9)"
      ]
     },
     "execution_count": 66,
     "metadata": {},
     "output_type": "execute_result"
    }
   ],
   "source": [
    "hotel1.shape"
   ]
  },
  {
   "cell_type": "code",
   "execution_count": 67,
   "id": "0c6ff375-aa21-466e-8624-9bf7dd990adb",
   "metadata": {},
   "outputs": [
    {
     "data": {
      "text/html": [
       "<div>\n",
       "<style scoped>\n",
       "    .dataframe tbody tr th:only-of-type {\n",
       "        vertical-align: middle;\n",
       "    }\n",
       "\n",
       "    .dataframe tbody tr th {\n",
       "        vertical-align: top;\n",
       "    }\n",
       "\n",
       "    .dataframe thead th {\n",
       "        text-align: right;\n",
       "    }\n",
       "</style>\n",
       "<table border=\"1\" class=\"dataframe\">\n",
       "  <thead>\n",
       "    <tr style=\"text-align: right;\">\n",
       "      <th></th>\n",
       "      <th>hotelid</th>\n",
       "      <th>hotelname</th>\n",
       "      <th>tags</th>\n",
       "      <th>starrating</th>\n",
       "      <th>roomtype</th>\n",
       "      <th>country</th>\n",
       "      <th>city</th>\n",
       "      <th>propertytype</th>\n",
       "      <th>url</th>\n",
       "    </tr>\n",
       "  </thead>\n",
       "  <tbody>\n",
       "    <tr>\n",
       "      <th>0</th>\n",
       "      <td>634876</td>\n",
       "      <td>The Old Cider House</td>\n",
       "      <td>Airconditioning Alarmclock Carpeting Closet Co...</td>\n",
       "      <td>4</td>\n",
       "      <td>Double Room</td>\n",
       "      <td>United Kingdom</td>\n",
       "      <td>Nether Stowey</td>\n",
       "      <td>Hotels</td>\n",
       "      <td>https://www.agoda.com/en-gb/the-old-cider-hous...</td>\n",
       "    </tr>\n",
       "    <tr>\n",
       "      <th>2</th>\n",
       "      <td>634876</td>\n",
       "      <td>The Old Cider House</td>\n",
       "      <td>Airconditioning Alarmclock Carpeting Closet Co...</td>\n",
       "      <td>4</td>\n",
       "      <td>Deluxe Double Room with Shower</td>\n",
       "      <td>United Kingdom</td>\n",
       "      <td>Nether Stowey</td>\n",
       "      <td>Hotels</td>\n",
       "      <td>https://www.agoda.com/en-gb/the-old-cider-hous...</td>\n",
       "    </tr>\n",
       "    <tr>\n",
       "      <th>3</th>\n",
       "      <td>634876</td>\n",
       "      <td>The Old Cider House</td>\n",
       "      <td>Airconditioning Alarmclock Carpeting Closet Co...</td>\n",
       "      <td>4</td>\n",
       "      <td>Superior Double Room</td>\n",
       "      <td>United Kingdom</td>\n",
       "      <td>Nether Stowey</td>\n",
       "      <td>Hotels</td>\n",
       "      <td>https://www.agoda.com/en-gb/the-old-cider-hous...</td>\n",
       "    </tr>\n",
       "    <tr>\n",
       "      <th>4</th>\n",
       "      <td>634876</td>\n",
       "      <td>The Old Cider House</td>\n",
       "      <td>Airconditioning Alarmclock Carpeting Closet Co...</td>\n",
       "      <td>4</td>\n",
       "      <td>Standard Double or Twin Room</td>\n",
       "      <td>United Kingdom</td>\n",
       "      <td>Nether Stowey</td>\n",
       "      <td>Hotels</td>\n",
       "      <td>https://www.agoda.com/en-gb/the-old-cider-hous...</td>\n",
       "    </tr>\n",
       "    <tr>\n",
       "      <th>10</th>\n",
       "      <td>8328096</td>\n",
       "      <td>Pantlleni</td>\n",
       "      <td>Airconditioning Closet Fireplace FreeWi-Fiinal...</td>\n",
       "      <td>3</td>\n",
       "      <td>Vacation Home</td>\n",
       "      <td>United Kingdom</td>\n",
       "      <td>Beddgelert</td>\n",
       "      <td>Hotels</td>\n",
       "      <td>https://www.agoda.com/en-gb/pantlleni/hotel/be...</td>\n",
       "    </tr>\n",
       "  </tbody>\n",
       "</table>\n",
       "</div>"
      ],
      "text/plain": [
       "    hotelid            hotelname  \\\n",
       "0    634876  The Old Cider House   \n",
       "2    634876  The Old Cider House   \n",
       "3    634876  The Old Cider House   \n",
       "4    634876  The Old Cider House   \n",
       "10  8328096            Pantlleni   \n",
       "\n",
       "                                                 tags  starrating  \\\n",
       "0   Airconditioning Alarmclock Carpeting Closet Co...           4   \n",
       "2   Airconditioning Alarmclock Carpeting Closet Co...           4   \n",
       "3   Airconditioning Alarmclock Carpeting Closet Co...           4   \n",
       "4   Airconditioning Alarmclock Carpeting Closet Co...           4   \n",
       "10  Airconditioning Closet Fireplace FreeWi-Fiinal...           3   \n",
       "\n",
       "                          roomtype         country           city  \\\n",
       "0                      Double Room  United Kingdom  Nether Stowey   \n",
       "2   Deluxe Double Room with Shower  United Kingdom  Nether Stowey   \n",
       "3             Superior Double Room  United Kingdom  Nether Stowey   \n",
       "4     Standard Double or Twin Room  United Kingdom  Nether Stowey   \n",
       "10                   Vacation Home  United Kingdom     Beddgelert   \n",
       "\n",
       "   propertytype                                                url  \n",
       "0        Hotels  https://www.agoda.com/en-gb/the-old-cider-hous...  \n",
       "2        Hotels  https://www.agoda.com/en-gb/the-old-cider-hous...  \n",
       "3        Hotels  https://www.agoda.com/en-gb/the-old-cider-hous...  \n",
       "4        Hotels  https://www.agoda.com/en-gb/the-old-cider-hous...  \n",
       "10       Hotels  https://www.agoda.com/en-gb/pantlleni/hotel/be...  "
      ]
     },
     "execution_count": 67,
     "metadata": {},
     "output_type": "execute_result"
    }
   ],
   "source": [
    "hotel1.head(5)"
   ]
  },
  {
   "cell_type": "code",
   "execution_count": 68,
   "id": "e7d8f511-b3b7-46cd-8929-ab87c309eb7b",
   "metadata": {},
   "outputs": [],
   "source": [
    "from sklearn.feature_extraction.text import TfidfVectorizer\n",
    "tfidf= TfidfVectorizer(max_features=1000)"
   ]
  },
  {
   "cell_type": "code",
   "execution_count": 69,
   "id": "1592a517-8f48-46f0-9852-d751e791409e",
   "metadata": {},
   "outputs": [],
   "source": [
    "from sklearn.metrics.pairwise import cosine_similarity"
   ]
  },
  {
   "cell_type": "code",
   "execution_count": 70,
   "id": "a4984c1b-8d3b-4f2c-b17c-191c76a265bc",
   "metadata": {},
   "outputs": [],
   "source": [
    "df11 = pd.read_csv(\"user_history.csv\")\n"
   ]
  },
  {
   "cell_type": "code",
   "execution_count": 71,
   "id": "49cfa6bf-1b01-423f-ad50-369d86e465dc",
   "metadata": {},
   "outputs": [],
   "source": [
    "from sklearn.feature_extraction.text import TfidfVectorizer\n",
    "from sklearn.metrics.pairwise import cosine_similarity\n",
    "from sklearn.model_selection import train_test_split\n",
    "from sklearn.metrics import precision_score, recall_score, f1_score"
   ]
  },
  {
   "cell_type": "code",
   "execution_count": 72,
   "id": "a7f261dc-1c71-40ff-962b-39505c3a570a",
   "metadata": {},
   "outputs": [],
   "source": [
    "def get_user_history(user_id,user_history_df):\n",
    "    user_data= user_history_df[user_history_df['user_id'] == user_id]\n",
    "    return user_data"
   ]
  },
  {
   "cell_type": "code",
   "execution_count": 73,
   "id": "2b150f97-13e7-4988-bee6-fd12fe9c9805",
   "metadata": {},
   "outputs": [],
   "source": [
    "def recommend(type, country, city , property ,starrating,  user_id= None):\n",
    "    # Check if user_id matches from historical data\n",
    "    if user_id:\n",
    "        user_history = get_user_history(user_id, df11)\n",
    "        if not user_history.empty:\n",
    "            user_tags = ' '.join(user_history['tags'].tolist())\n",
    "        else:\n",
    "            user_tags = f\"{type} {country} {city} {property} {starrating}\"\n",
    "    else:\n",
    "        user_tags = f\"{type} {country} {city} {property} {starrating}\"\n",
    "\n",
    "    # Filter the dataset based on the country and city\n",
    "    temp = hotel1[(hotel1['country'] == country) & (hotel1['city'] == city) & (hotel1['starrating'] >= starrating)]\n",
    "     # Append user preferences to the filtered DataFrame\n",
    "\n",
    "    # Create a DataFrame from user tags\n",
    "    user_tags_df = pd.DataFrame({'tags': [user_tags]})\n",
    "    \n",
    "    temp = pd.concat([temp, user_tags_df],ignore_index=True)\n",
    "    \n",
    "    # Fit and transform the TF-IDF vectorizer\n",
    "    vector = tfidf.fit_transform(temp['tags']).toarray()\n",
    "    \n",
    "    # Calculate cosine similarity matrix\n",
    "    similarity = cosine_similarity(vector)\n",
    "    \n",
    "    # Get indices of the filtered hotels\n",
    "    filtered_indices = temp[temp['tags'] == user_tags].index.tolist()\n",
    "    \n",
    "    # Recommend top 5 similar hotels for each filtered hotel\n",
    "    for i in filtered_indices:\n",
    "        similar_hotels = sorted(list(enumerate(similarity[i])), key=lambda x: x[1], reverse=True)[1:6]  # Skip the first match (itself)\n",
    "        for hotel in similar_hotels:\n",
    "            print(tuple(temp.loc[hotel[0]][['hotelname', 'roomtype','starrating']]))\n",
    "\n"
   ]
  },
  {
   "cell_type": "code",
   "execution_count": 74,
   "id": "143d69bc-b3f4-4220-97d5-7792e16206ce",
   "metadata": {},
   "outputs": [
    {
     "name": "stdout",
     "output_type": "stream",
     "text": [
      "('Eurostars Grand Central Hotel', 'Double Room', 4.0)\n",
      "('Novotel Muenchen City Arnulfpark', 'Standard Double Bed', 4.0)\n",
      "('Hotel Munich City', 'Single Room', 4.0)\n",
      "('Novotel Munchen Messe', 'Single Room', 4.0)\n",
      "('Hotel Munich City', 'superior double room with air condition', 4.0)\n"
     ]
    }
   ],
   "source": [
    "recommend('Comfort Single Room','Germany','Munich','Hotels', 4.0, 'user1')"
   ]
  },
  {
   "cell_type": "code",
   "execution_count": 75,
   "id": "e3099c6c-4d9f-473f-b99c-b4a80182179f",
   "metadata": {},
   "outputs": [
    {
     "name": "stdout",
     "output_type": "stream",
     "text": [
      "('LetoMotel Munich Moosach', 'Single - Room', 3.0)\n",
      "('GHOTEL hotel & living Munich-Nymphenburg', 'Single', 3.0)\n",
      "('NH Munchen City Sud', 'Single', 3.0)\n",
      "('Hotel Carmen', 'room', 3.0)\n",
      "('GHOTEL hotel & living Munich-Nymphenburg', 'Single', 3.0)\n"
     ]
    }
   ],
   "source": [
    "recommend('Comfort Single Room','Germany','Munich','Hotels', 3.0)"
   ]
  },
  {
   "cell_type": "code",
   "execution_count": 77,
   "id": "c1092802-71d1-4b45-8e37-8c65cce9c6f5",
   "metadata": {},
   "outputs": [],
   "source": [
    "import pickle\n",
    "\n",
    "# Assume tfidf is your trained vectorizer and df is your main dataset\n",
    "with open(\"tfidf.pkl\", \"wb\") as f:\n",
    "    pickle.dump(tfidf, f)\n",
    "\n",
    "with open(\"hoteldata.pkl\", \"wb\") as f:\n",
    "    pickle.dump(hotel1, f)"
   ]
  },
  {
   "cell_type": "code",
   "execution_count": 78,
   "id": "f91f859b-95e7-4ff3-9a68-5575dec2a0d1",
   "metadata": {},
   "outputs": [],
   "source": [
    "import pickle\n",
    "\n",
    "with open(\"user_history.pkl\", \"wb\") as f:\n",
    "    pickle.dump(df11, f)"
   ]
  },
  {
   "cell_type": "code",
   "execution_count": 91,
   "id": "2babfdde-97eb-489b-9167-f725bba7c8a6",
   "metadata": {},
   "outputs": [],
   "source": []
  },
  {
   "cell_type": "code",
   "execution_count": 92,
   "id": "d2c52a25-427b-48a0-9890-61c8bc8edff4",
   "metadata": {},
   "outputs": [],
   "source": []
  },
  {
   "cell_type": "code",
   "execution_count": null,
   "id": "e91dbd9d-34e6-4ccb-8188-af42ab07c601",
   "metadata": {},
   "outputs": [],
   "source": []
  }
 ],
 "metadata": {
  "kernelspec": {
   "display_name": "Python 3 (ipykernel)",
   "language": "python",
   "name": "python3"
  },
  "language_info": {
   "codemirror_mode": {
    "name": "ipython",
    "version": 3
   },
   "file_extension": ".py",
   "mimetype": "text/x-python",
   "name": "python",
   "nbconvert_exporter": "python",
   "pygments_lexer": "ipython3",
   "version": "3.11.7"
  }
 },
 "nbformat": 4,
 "nbformat_minor": 5
}
